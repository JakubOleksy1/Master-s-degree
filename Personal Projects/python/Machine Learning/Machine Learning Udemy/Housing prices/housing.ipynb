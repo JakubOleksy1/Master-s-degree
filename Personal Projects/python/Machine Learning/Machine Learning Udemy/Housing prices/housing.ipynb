{
 "cells": [
  {
   "cell_type": "code",
   "execution_count": null,
   "metadata": {},
   "outputs": [],
   "source": [
    "import pandas as pd\n",
    "import numpy as np\n",
    "from sklearn.linear_model import LinearRegression\n",
    "\n",
    "df = pd.read_csv('Housing.csv')\n",
    "print(df)\n",
    "\n",
    "square_footage = df['area'].values\n",
    "prices = df['price'].values\n",
    "\n",
    "X = square_footage.reshape(-1, 1)\n",
    "model = LinearRegression()\n",
    "model.fit(X, prices)\n",
    "\n",
    "new_square_footage = np.array([1900]).reshape(-1, 1)\n",
    "predict_price = model.predict(new_square_footage)\n",
    "print(predict_price)"
   ]
  },
  {
   "cell_type": "code",
   "execution_count": null,
   "metadata": {},
   "outputs": [],
   "source": [
    "import pandas as pd\n",
    "import numpy as np\n",
    "from sklearn.model_selection import train_test_split\n",
    "from sklearn.linear_model import LinearRegression\n",
    "\n",
    "df = pd.read_csv('Housing.csv')\n",
    "df = pd.get_dummies(df, columns=['mainroad','guestroom','basement','hotwaterheating','airconditioning','prefarea','furnishingstatus'])\n",
    "\n",
    "features = df.drop('price', axis=1).values\n",
    "prices = df['price'].values\n",
    "\n",
    "\n",
    "X_train, X_test, y_train, y_test = train_test_split(features, prices, test_size=0.2, random_state=42)\n",
    "model = LinearRegression()\n",
    "model.fit(X_train, y_train)\n",
    "\n",
    "predict_price = model.predict(X_test)"
   ]
  },
  {
   "cell_type": "code",
   "execution_count": null,
   "metadata": {},
   "outputs": [],
   "source": [
    "import matplotlib.pyplot as plt\n",
    "\n",
    "plt.figure(figsize=(10, 6))\n",
    "plt.scatter(y_test, predict_price, color='blue')\n",
    "plt.title('Actual vs Predicted Prices')\n",
    "plt.xlabel('Actual Prices')\n",
    "plt.ylabel('Predicted Prices')\n",
    "plt.grid(True)\n",
    "plt.show()\n",
    "\n",
    "residuals  = y_test - predict_price\n",
    "plt.figure(figsize=(10, 6))\n",
    "plt.scatter(predict_price, residuals, color='green')\n",
    "plt.title('Predicted Price vs Residuals')\n",
    "plt.xlabel('Predicted Price')\n",
    "plt.ylabel('Residuals')\n",
    "plt.axhline(y=0, color='red', linewidth=1, linestyle='--')\n",
    "plt.grid(True)\n",
    "plt.show()"
   ]
  }
 ],
 "metadata": {
  "kernelspec": {
   "display_name": "Python 3",
   "language": "python",
   "name": "python3"
  },
  "language_info": {
   "codemirror_mode": {
    "name": "ipython",
    "version": 3
   },
   "file_extension": ".py",
   "mimetype": "text/x-python",
   "name": "python",
   "nbconvert_exporter": "python",
   "pygments_lexer": "ipython3",
   "version": "3.12.3"
  }
 },
 "nbformat": 4,
 "nbformat_minor": 2
}
