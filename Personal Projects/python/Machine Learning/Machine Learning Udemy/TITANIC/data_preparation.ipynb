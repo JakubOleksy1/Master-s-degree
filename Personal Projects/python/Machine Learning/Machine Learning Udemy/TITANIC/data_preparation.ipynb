{
 "cells": [
  {
   "cell_type": "code",
   "execution_count": null,
   "metadata": {},
   "outputs": [],
   "source": [
    "import matplotlib.pyplot as plt\n",
    "import pandas as pd\n",
    "\n",
    "titanic = pd.read_csv('titanic.csv')\n",
    "titanic.head()\n",
    "\n",
    "plt.hist(titanic['Pclass'],bins=3,color='blue')\n",
    "plt.xlabel('Pclass')\n",
    "plt.xticks([1,2,3])\n",
    "plt.ylabel('Frequency')\n",
    "plt.title('Survived Histogram')\n",
    "plt.show()"
   ]
  },
  {
   "cell_type": "code",
   "execution_count": null,
   "metadata": {},
   "outputs": [],
   "source": [
    "import seaborn as sns\n",
    "corr_matrix = titanic.corr()\n",
    "\n",
    "print(corr_matrix)\n",
    "\n",
    "plt.figure(figsize=(10,8))\n",
    "sns.heatmap(corr_matrix,annot=True, cmap='coolwarm', fmt='.2f', linewidths=2)\n",
    "\n"
   ]
  },
  {
   "cell_type": "code",
   "execution_count": null,
   "metadata": {},
   "outputs": [],
   "source": []
  }
 ],
 "metadata": {
  "language_info": {
   "name": "python"
  }
 },
 "nbformat": 4,
 "nbformat_minor": 2
}
