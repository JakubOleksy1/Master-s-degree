{
  "cells": [
    {
      "cell_type": "code",
      "execution_count": null,
      "metadata": {
        "colab": {
          "base_uri": "https://localhost:8080/"
        },
        "id": "phHlE_nD1qkN",
        "outputId": "55c3c049-d91a-4727-bdaf-045045614b5f"
      },
      "outputs": [],
      "source": [
        "length = 3\n",
        "width = 5\n",
        "area = length * width\n",
        "print(\"area: \", area)"
      ]
    },
    {
      "cell_type": "code",
      "execution_count": null,
      "metadata": {
        "colab": {
          "base_uri": "https://localhost:8080/"
        },
        "id": "4Q46qFHJ5xtk",
        "outputId": "2dbcaec8-fae1-4da3-fc24-1cadb6d137b2"
      },
      "outputs": [],
      "source": [
        "user_name = \"Alice\"\n",
        "greeting = \"Hello \" + user_name + \" How can i assist you today?\"\n",
        "print(greeting)"
      ]
    },
    {
      "cell_type": "code",
      "execution_count": null,
      "metadata": {
        "colab": {
          "base_uri": "https://localhost:8080/"
        },
        "id": "lAO_B_Ul6Amh",
        "outputId": "cb7de856-2cb6-4762-9dc0-95526fde86ab"
      },
      "outputs": [],
      "source": [
        "user_age = int(input(\"What is your age? \"))\n",
        "if(user_age >= 18):\n",
        "  print(\"GIT\")\n",
        "else:\n",
        "  print(\"Nah\")"
      ]
    },
    {
      "cell_type": "code",
      "execution_count": null,
      "metadata": {
        "colab": {
          "base_uri": "https://localhost:8080/"
        },
        "id": "nwylIEGW6e8H",
        "outputId": "68c1867e-051a-4aaf-bc70-74d14b69395a"
      },
      "outputs": [],
      "source": [
        "count = 10\n",
        "while count >= 1:\n",
        "  print(count)\n",
        "  count -= 1\n",
        "count = 10\n",
        "for _ in range(10):\n",
        "  print(count)\n",
        "  count -= 1"
      ]
    },
    {
      "cell_type": "code",
      "execution_count": null,
      "metadata": {
        "colab": {
          "base_uri": "https://localhost:8080/"
        },
        "id": "MUqy6ujZ69OU",
        "outputId": "787d157b-539e-4166-a149-66562da6fca0"
      },
      "outputs": [],
      "source": [
        "perc = int(input(\"What grade byku? \"))\n",
        "if perc >= 90:\n",
        "  grade = \"A\"\n",
        "elif perc >= 80:\n",
        "  grade = \"B\"\n",
        "elif perc >= 70:\n",
        "  grade = \"C\"\n",
        "if perc >= 60:\n",
        "  grade = \"D\"\n",
        "elif perc >= 50:\n",
        "  grade = \"E\"\n",
        "else:\n",
        "  grade = \"F\"\n",
        "print(grade)"
      ]
    },
    {
      "cell_type": "code",
      "execution_count": null,
      "metadata": {
        "colab": {
          "base_uri": "https://localhost:8080/"
        },
        "id": "bVznx29j7qt-",
        "outputId": "68913d57-6284-4d98-9f15-15e33d3d3cc3"
      },
      "outputs": [],
      "source": [
        "a = 0\n",
        "b = 0\n",
        "c = 1\n",
        "for _ in range(10):\n",
        "  b, a = a, c\n",
        "  c = a + b\n",
        "  print(c)"
      ]
    },
    {
      "cell_type": "code",
      "execution_count": null,
      "metadata": {
        "colab": {
          "base_uri": "https://localhost:8080/"
        },
        "id": "c2CxvMRA71Yv",
        "outputId": "e0f49004-ef2b-41fb-e3e3-5cc6b085ed2d"
      },
      "outputs": [],
      "source": [
        "def add(x,y):\n",
        "  return x + y\n",
        "\n",
        "def sub(x,y):\n",
        "  return x - y\n",
        "\n",
        "def mul(x,y):\n",
        "  return x * y\n",
        "\n",
        "def div(x,y):\n",
        "  if(y != 0):\n",
        "    return x / y\n",
        "  else:\n",
        "    return \"Err div by 0\"\n",
        "\n",
        "num1 = 10\n",
        "num2 = 5\n",
        "print(add(num1,num2), \"\\n\", sub(num1,num2), \"\\n\", mul(num1,num2), \"\\n\", div(num1,num2) )"
      ]
    },
    {
      "cell_type": "code",
      "execution_count": null,
      "metadata": {
        "colab": {
          "base_uri": "https://localhost:8080/"
        },
        "id": "pUGLvQZT-aKs",
        "outputId": "4fc60122-c1b0-4949-f246-e65b9c61522a"
      },
      "outputs": [],
      "source": [
        "def calcu(principal, rate,time):\n",
        "  amount = principal * (1+rate/100)**time\n",
        "  return amount\n",
        "\n",
        "initial  = 1000\n",
        "annu = 5\n",
        "inv = 3\n",
        "iterest = calcu(initial,annu,inv)\n",
        "print(iterest)"
      ]
    },
    {
      "cell_type": "code",
      "execution_count": null,
      "metadata": {
        "colab": {
          "base_uri": "https://localhost:8080/"
        },
        "id": "9mSzYqgI-8Br",
        "outputId": "26654752-9481-472a-c664-334ad2e60e98"
      },
      "outputs": [],
      "source": [
        "numbers = [1,2,3,4,5,6,7,8,9,10]\n",
        "even = list(filter(lambda x: x%2 == 0, numbers))\n",
        "print(even)"
      ]
    },
    {
      "cell_type": "code",
      "execution_count": null,
      "metadata": {
        "colab": {
          "base_uri": "https://localhost:8080/"
        },
        "id": "UGcums3X_b7U",
        "outputId": "94e76cc6-e075-408b-db69-ae05c0f0b5b2"
      },
      "outputs": [],
      "source": [
        "import random\n",
        "coin = random.choice([\"heads\", \"tails\"])\n",
        "print(coin)"
      ]
    },
    {
      "cell_type": "code",
      "execution_count": null,
      "metadata": {
        "colab": {
          "base_uri": "https://localhost:8080/"
        },
        "id": "JSHL7jmqEFRp",
        "outputId": "11b2e61d-40af-42e2-e50e-25c243bb13de"
      },
      "outputs": [],
      "source": [
        "celcius = [25,30,15,20,10]\n",
        "fahrenheit = [temp * 9/5 + 32 for temp in celcius]\n",
        "print(fahrenheit)"
      ]
    },
    {
      "cell_type": "code",
      "execution_count": null,
      "metadata": {
        "id": "oHa8MwMlETXJ"
      },
      "outputs": [],
      "source": [
        "contacts = {\n",
        "    \"Alice\": \"alice@gmail.com\",\n",
        "    \"Y\": \"y@gmail.com\",\n",
        "    \"Kac\": \"Kac@gmail.com\",\n",
        "    \"Bob\": \"Bob@gmail.com\"\n",
        "}\n",
        "contact_name = \"Bob\"\n",
        "if(contact_name in contacts):\n",
        "  print(f\"Email for {contact_name}: {contacts[contact_name]}\")"
      ]
    }
  ],
  "metadata": {
    "colab": {
      "provenance": []
    },
    "kernelspec": {
      "display_name": "Python 3",
      "name": "python3"
    },
    "language_info": {
      "name": "python"
    }
  },
  "nbformat": 4,
  "nbformat_minor": 0
}
